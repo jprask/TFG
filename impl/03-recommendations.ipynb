{
 "cells": [
  {
   "cell_type": "code",
   "execution_count": 1,
   "metadata": {},
   "outputs": [],
   "source": [
    "# Trust metrics\n",
    "from itertools import combinations\n",
    "import networkx as nx\n",
    "import numpy as np\n",
    "import pandas as pd\n",
    "\n",
    "def cluster(pubid):\n",
    "    return network_data[network_data['pubid'] == pubid]\n",
    "\n",
    "def authname(authid):\n",
    "    return network_data[network_data['authid'] == authid]['author'].iloc[0]\n",
    "\n",
    "def edges(pubid):\n",
    "    pub_cluster = cluster(pubid)\n",
    "    authors = pub_cluster['authid'].unique()\n",
    "    weight = pub_cluster['type_weitght'].iloc[0]\n",
    "\n",
    "    return [(*edge, {'weight': weight, 'pubid': pubid}) for edge in combinations(authors, 2)]\n",
    "\n",
    "def path_length(path_weights, alpha):\n",
    "    return sum([1 / weight ** alpha for weight in path_weights])\n",
    "\n",
    "def jumps(l, n=2):\n",
    "    return [l[i:i+n] for i in range(len(l))][:-1]\n",
    "\n",
    "def sum_weights(n, j):\n",
    "    return sum([n[j[0]][j[1]][k]['weight'] for k in n[j[0]][j[1]]])\n",
    "\n",
    "def sum_of_weights(jumps, network):\n",
    "    return [sum_weights(network, jump) for jump in jumps]\n",
    "\n",
    "def deg_arr(deg):\n",
    "    return np.array([v for _, v in deg])\n",
    "\n",
    "def degree_centrality(network, alpha):\n",
    "    k = deg_arr(network.degree()) ** (1 - alpha)\n",
    "    s = deg_arr(network.degree(weight='weight')) ** alpha\n",
    "    centralities = k * s\n",
    "    return [{node: centralities[i]} for i, node in enumerate(network.nodes)]\n",
    "\n",
    "PUB_WEIGHTS = {\n",
    "  'Livro Publicado ou Organizado ': 9,\n",
    "  'Artigo Publicado': 8,\n",
    "  'Capítulo de Livro Publicado': 8,\n",
    "  'Artigo Aceito para Publicação': 7,\n",
    "  'Texto em Jornal/Revista': 6,\n",
    "  'Trabalho em Evento': 3,\n",
    "  'Outra Produção Bibliográfica': 2,\n",
    "  'Prefácio/Posfácio': 2,\n",
    "  'nan': 1\n",
    "}\n",
    "\n",
    "network_data = pd.read_csv('trust_network.csv')\n",
    "network_data['pub_type'] = network_data['pub_type'].astype(str)\n",
    "network_data['type_weitght'] = network_data.pub_type.apply(lambda p: PUB_WEIGHTS[p])"
   ]
  },
  {
   "cell_type": "code",
   "execution_count": 2,
   "metadata": {},
   "outputs": [],
   "source": [
    "trust_network = nx.MultiGraph()\n",
    "\n",
    "for authid in network_data['authid'].unique():\n",
    "    trust_network.add_node(authid, name=authname(authid)) \n",
    "\n",
    "for pubid in network_data['pubid'].unique():\n",
    "    trust_network.add_edges_from(edges(pubid))"
   ]
  },
  {
   "cell_type": "code",
   "execution_count": 13,
   "metadata": {},
   "outputs": [],
   "source": [
    "import re\n",
    "import string\n",
    "from gensim.utils import deaccent\n",
    "from sklearn.feature_extraction.text import TfidfVectorizer\n",
    "from sklearn.metrics.pairwise import linear_kernel\n",
    "\n",
    "def preprocessing(line):\n",
    "    line = str(line).lower()\n",
    "    line = re.sub(r\"[{}]\".format(string.punctuation), \" \", line)\n",
    "    return deaccent(line)\n",
    "\n",
    "peer_profiles = pd.DataFrame(columns=['id', 'profile'])\n",
    "\n",
    "for pid in network_data['authid'].unique():\n",
    "    profile = preprocessing(network_data[network_data['authid'] == pid]['title'].str.cat(sep=' '))\n",
    "    peer_profiles = peer_profiles.append({'id': pid, 'profile': profile}, ignore_index=True)\n",
    "\n",
    "tfidf = TfidfVectorizer().fit_transform(peer_profiles['profile'])\n",
    "\n",
    "def content_based_recommendation(pid):\n",
    "    target_profile = tfidf.getrow(pid)\n",
    "    cosine_similarities = linear_kernel(target_profile, tfidf).flatten()\n",
    "\n",
    "    return [sorted(trust_network.nodes)[index] for index in cosine_similarities.argsort()[:-25:-1]]"
   ]
  },
  {
   "cell_type": "code",
   "execution_count": 14,
   "metadata": {},
   "outputs": [],
   "source": [
    "from itertools import groupby\n",
    "\n",
    "alpha = 0.5\n",
    "\n",
    "recommendations = content_based_recommendation(1)\n",
    "\n",
    "centralities = {list(peer_centrality)[0]: peer_centrality[list(peer_centrality)[0]] for peer_centrality in degree_centrality(trust_network, alpha) if list(peer_centrality)[0] in recommendations}\n",
    "all_distances = [(target, path_length(sum_of_weights(jumps(p), trust_network), alpha)) for target in recommendations for p in nx.all_simple_paths(trust_network, 1, target, cutoff=5)]\n",
    "distances = {pid: min(dist)[1] for pid, dist in groupby(all_distances, key=lambda d: d[0])}"
   ]
  },
  {
   "cell_type": "code",
   "execution_count": 15,
   "metadata": {},
   "outputs": [],
   "source": [
    "centrality_recommendations = sorted(recommendations, key=lambda recommended: centralities[recommended], reverse=True)\n",
    "distance_recommendations = sorted(recommendations, key=lambda recommended: distances.get(recommended, 999), reverse=False)"
   ]
  },
  {
   "cell_type": "code",
   "execution_count": 16,
   "metadata": {},
   "outputs": [
    {
     "data": {
      "text/plain": [
       "[1,\n",
       " 0,\n",
       " 43,\n",
       " 50,\n",
       " 64,\n",
       " 80,\n",
       " 101,\n",
       " 66,\n",
       " 38,\n",
       " 3,\n",
       " 54,\n",
       " 78,\n",
       " 2,\n",
       " 53,\n",
       " 37,\n",
       " 65,\n",
       " 41,\n",
       " 51,\n",
       " 56,\n",
       " 108,\n",
       " 107,\n",
       " 40,\n",
       " 120,\n",
       " 106]"
      ]
     },
     "execution_count": 16,
     "metadata": {},
     "output_type": "execute_result"
    }
   ],
   "source": [
    "recommendations"
   ]
  },
  {
   "cell_type": "code",
   "execution_count": 17,
   "metadata": {},
   "outputs": [
    {
     "data": {
      "text/plain": [
       "{1: 236.92825918408298,\n",
       " 50: 118.94536560959406,\n",
       " 0: 183.25665062965658,\n",
       " 66: 50.91168824543142,\n",
       " 120: 12.449899597988733,\n",
       " 108: 210.35683967962632,\n",
       " 106: 143.10835055998655,\n",
       " 2: 40.19950248448356,\n",
       " 78: 38.23610858861032,\n",
       " 53: 179.55500549970753,\n",
       " 38: 48.28043081829324,\n",
       " 107: 50.07993610219566,\n",
       " 41: 42.988370520409354,\n",
       " 37: 25.25866188063018,\n",
       " 43: 51.16639522186412,\n",
       " 101: 54.772255750516614,\n",
       " 56: 6.4807406984078595,\n",
       " 54: 12.449899597988733,\n",
       " 3: 14.142135623730953,\n",
       " 64: 9.38083151964686,\n",
       " 40: 5.196152422706632,\n",
       " 80: 4.69041575982343,\n",
       " 51: 4.69041575982343,\n",
       " 65: 2.8284271247461903}"
      ]
     },
     "execution_count": 17,
     "metadata": {},
     "output_type": "execute_result"
    }
   ],
   "source": [
    "centralities"
   ]
  },
  {
   "cell_type": "code",
   "execution_count": 18,
   "metadata": {},
   "outputs": [
    {
     "data": {
      "text/plain": [
       "[1,\n",
       " 108,\n",
       " 0,\n",
       " 53,\n",
       " 106,\n",
       " 50,\n",
       " 101,\n",
       " 43,\n",
       " 66,\n",
       " 107,\n",
       " 38,\n",
       " 41,\n",
       " 2,\n",
       " 78,\n",
       " 37,\n",
       " 3,\n",
       " 54,\n",
       " 120,\n",
       " 64,\n",
       " 56,\n",
       " 40,\n",
       " 80,\n",
       " 51,\n",
       " 65]"
      ]
     },
     "execution_count": 18,
     "metadata": {},
     "output_type": "execute_result"
    }
   ],
   "source": [
    "centrality_recommendations"
   ]
  },
  {
   "cell_type": "code",
   "execution_count": 19,
   "metadata": {},
   "outputs": [
    {
     "data": {
      "text/plain": [
       "{43: 0.4214985851425088,\n",
       " 64: 1.2908044844199997,\n",
       " 80: 0.989293139842236,\n",
       " 38: 0.19245008972987526,\n",
       " 54: 0.9916159632170918,\n",
       " 78: 0.5354591616021468,\n",
       " 2: 0.7973182500014535,\n",
       " 53: 0.7654962612458839,\n",
       " 37: 1.208428962060957,\n",
       " 65: 1.4842049739280605,\n",
       " 41: 1.1538305145963372,\n",
       " 56: 0.817538307261394,\n",
       " 40: 0.696923425058676,\n",
       " 120: 0.3333333333333333,\n",
       " 106: 0.11043152607484653}"
      ]
     },
     "execution_count": 19,
     "metadata": {},
     "output_type": "execute_result"
    }
   ],
   "source": [
    "distances"
   ]
  },
  {
   "cell_type": "code",
   "execution_count": 20,
   "metadata": {},
   "outputs": [
    {
     "data": {
      "text/plain": [
       "[106,\n",
       " 38,\n",
       " 120,\n",
       " 43,\n",
       " 78,\n",
       " 40,\n",
       " 53,\n",
       " 2,\n",
       " 56,\n",
       " 80,\n",
       " 54,\n",
       " 41,\n",
       " 37,\n",
       " 64,\n",
       " 65,\n",
       " 1,\n",
       " 0,\n",
       " 50,\n",
       " 101,\n",
       " 66,\n",
       " 3,\n",
       " 51,\n",
       " 108,\n",
       " 107]"
      ]
     },
     "execution_count": 20,
     "metadata": {},
     "output_type": "execute_result"
    }
   ],
   "source": [
    "distance_recommendations"
   ]
  },
  {
   "cell_type": "code",
   "execution_count": null,
   "metadata": {},
   "outputs": [],
   "source": []
  }
 ],
 "metadata": {
  "kernelspec": {
   "display_name": "Python 3",
   "language": "python",
   "name": "python3"
  }
 },
 "nbformat": 4,
 "nbformat_minor": 2
}
